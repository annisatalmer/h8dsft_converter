{
  "nbformat": 4,
  "nbformat_minor": 0,
  "metadata": {
    "colab": {
      "provenance": []
    },
    "kernelspec": {
      "name": "python3",
      "display_name": "Python 3"
    },
    "language_info": {
      "name": "python"
    }
  },
  "cells": [
    {
      "cell_type": "code",
      "source": [
        "# Python program to print Even Numbers in a List\n",
        "\n",
        "print(\"NCG 2\")\n",
        "print(\"by Annisa Triana Talmera\")\n",
        "print(\"_________________________\")\n",
        " \n",
        "# list of numbers\n",
        "numbers = [951, 402, 984, 651, 360, 69, 408, 319, 601, 485, 980, 507, 725, 547, 544, 615, 83, 165, 141, 501, 263, 617, 865, 575, 219, 390, 984, 592, 236, 105, 942, 941, 386, 462, 47, 418, 907, 344, 236, 375, 823, 566, 597, 978, 328, 615, 953, 345, 399, 162, 758, 219, 918, 237, 412, 566, 826, 248, 866, 950, 626, 949]\n",
        "\n",
        "print(\"\\nEven List Numbers : \")\n",
        "#print(\"____________________\")\n",
        "\n",
        "# iterating each number in list\n",
        "for num in numbers:\n",
        "\n",
        "    # checking condition\n",
        "   if num % 2 == 0:\n",
        "      #if num <= 918:\n",
        "        #continue\n",
        "        print(num, end=\" \")     #end= \" \" itu buat ganti urutan angka jadi ke samping, kalau gaada ini, urutannya ke bawah\n",
        "        if num == 918:          #Proses dihentikan saat terdapat angka 918 pada proses looping\n",
        "          break\n",
        "\n",
        "print(\"\\n\\nDONE\")\n",
        "\n"
      ],
      "metadata": {
        "colab": {
          "base_uri": "https://localhost:8080/"
        },
        "id": "udsl1UXTk3ND",
        "outputId": "94266167-4d12-4367-ff16-f4def2562468"
      },
      "execution_count": 98,
      "outputs": [
        {
          "output_type": "stream",
          "name": "stdout",
          "text": [
            "NCG 2\n",
            "by Annisa Triana Talmera\n",
            "_________________________\n",
            "\n",
            "Even List Numbers : \n",
            "402 984 360 408 980 544 390 984 592 236 942 386 462 418 344 236 566 978 328 162 758 918 \n",
            "\n",
            "DONE\n"
          ]
        }
      ]
    },
    {
      "cell_type": "code",
      "source": [
        "# Python program to print even Numbers in a List\n",
        " \n",
        "print(\"NCG 2\")\n",
        "print(\"by Annisa Triana Talmera\")\n",
        "print(\"\\n_________________________\")\n",
        "\n",
        "# list of numbers\n",
        "n = [951, 402, 984, 651, 360, 69, 408, 319, 601, 485, 980, 507, 725, 547, 544, 615, 83, 165, 141, 501, 263, 617, 865, 575, 219, 390, 984, 592, 236, 105, 942, 941, 386, 462, 47, 418, 907, 344, 236, 375, 823, 566, 597, 978, 328, 615, 953, 345, 399, 162, 758, 219, 918, 237, 412, 566, 826, 248, 866, 950, 626, 949]\n",
        "\n",
        "print(\"\\nList number\", i)\n",
        "print(\"\\n_________________________\")\n",
        "\n",
        "\n",
        "# using list comprehension\n",
        "evens = [num for num in n if num % 2 == 0]\n",
        " \n",
        "print(\"\\nEven numbers in the list: \", evens)\n",
        "\n",
        "\n",
        "# stop looping while number = 918\n",
        "\n",
        "new_list = [num for num in evens if num <= 918]\n",
        "new_list.sort()\n",
        "\n",
        "print(\"\\nNew list number :\", new_list)\n",
        "\n",
        "print(\"\\n__________________________\")\n",
        "print(\"\\nDone\")"
      ],
      "metadata": {
        "colab": {
          "base_uri": "https://localhost:8080/"
        },
        "id": "eAbvIOk3Y0wo",
        "outputId": "5964d724-160b-40ba-80f4-f6e9d3590ad6"
      },
      "execution_count": 77,
      "outputs": [
        {
          "output_type": "stream",
          "name": "stdout",
          "text": [
            "NCG 2\n",
            "by Annisa Triana Talmera\n",
            "\n",
            "_________________________\n",
            "\n",
            "List number (951, 402, 984, 651, 360, 69, 408, 319, 601, 485, 980, 507, 725, 547, 544, 615, 83, 165, 141, 501, 263, 617, 865, 575, 219, 390, 984, 592, 236, 105, 942, 941, 386, 462, 47, 418, 907, 344, 236, 375, 823, 566, 597, 978, 328, 615, 953, 345, 399, 162, 758, 219, 918, 237, 412, 566, 826, 248, 866, 950, 626, 949)\n",
            "\n",
            "_________________________\n",
            "\n",
            "Even numbers in the list:  [402, 984, 360, 408, 980, 544, 390, 984, 592, 236, 942, 386, 462, 418, 344, 236, 566, 978, 328, 162, 758, 918, 412, 566, 826, 248, 866, 950, 626]\n",
            "\n",
            "New list number : [162, 236, 236, 248, 328, 344, 360, 386, 390, 402, 408, 412, 418, 462, 544, 566, 566, 592, 626, 758, 826, 866, 918]\n",
            "\n",
            "__________________________\n",
            "\n",
            "Done\n"
          ]
        }
      ]
    }
  ]
}